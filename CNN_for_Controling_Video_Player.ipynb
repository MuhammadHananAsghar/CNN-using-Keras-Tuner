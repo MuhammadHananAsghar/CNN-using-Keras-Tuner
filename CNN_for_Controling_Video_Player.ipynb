{
  "nbformat": 4,
  "nbformat_minor": 0,
  "metadata": {
    "colab": {
      "name": "CNN for Controling Video Player.ipynb",
      "provenance": [],
      "collapsed_sections": []
    },
    "kernelspec": {
      "name": "python3",
      "display_name": "Python 3"
    },
    "accelerator": "GPU"
  },
  "cells": [
    {
      "cell_type": "markdown",
      "metadata": {
        "id": "M4zaISABh6hD"
      },
      "source": [
        "**Loading Data**"
      ]
    },
    {
      "cell_type": "code",
      "metadata": {
        "colab": {
          "base_uri": "https://localhost:8080/"
        },
        "id": "AynkeMn0gjNA",
        "outputId": "7fda41d5-d18c-4a9d-ba78-630fddd87d92"
      },
      "source": [
        "from google.colab import drive\n",
        "drive.mount('/gdrive')\n",
        "%cd /gdrive"
      ],
      "execution_count": null,
      "outputs": [
        {
          "output_type": "stream",
          "text": [
            "Drive already mounted at /gdrive; to attempt to forcibly remount, call drive.mount(\"/gdrive\", force_remount=True).\n",
            "/gdrive\n"
          ],
          "name": "stdout"
        }
      ]
    },
    {
      "cell_type": "code",
      "metadata": {
        "id": "ItdVmtpng8B5"
      },
      "source": [
        "import zipfile\n",
        "zip_ref = zipfile.ZipFile('/gdrive/MyDrive/handsigns.zip','r')\n",
        "zip_ref.extractall(\"/content\")\n",
        "zip_ref.close()"
      ],
      "execution_count": null,
      "outputs": []
    },
    {
      "cell_type": "code",
      "metadata": {
        "id": "E1_ZeVTQooYO"
      },
      "source": [
        "!rm -rf /content/output"
      ],
      "execution_count": null,
      "outputs": []
    },
    {
      "cell_type": "markdown",
      "metadata": {
        "id": "B2E7P9kAh_ms"
      },
      "source": [
        "**Creating CNN**"
      ]
    },
    {
      "cell_type": "code",
      "metadata": {
        "id": "0uJOBaDgiDgX"
      },
      "source": [
        "!pip -q install keras-tuner"
      ],
      "execution_count": null,
      "outputs": []
    },
    {
      "cell_type": "code",
      "metadata": {
        "id": "bRsOIkKFhzrc"
      },
      "source": [
        "import keras\n",
        "import os\n",
        "from keras.layers import Conv2D, MaxPooling2D, Flatten\n",
        "from keras.models import Sequential\n",
        "from keras.layers import Dense, Dropout\n",
        "from keras.preprocessing.image import ImageDataGenerator\n",
        "from keras.callbacks import EarlyStopping\n",
        "from kerastuner import RandomSearch"
      ],
      "execution_count": null,
      "outputs": []
    },
    {
      "cell_type": "code",
      "metadata": {
        "id": "p3yMZd55h_Es"
      },
      "source": [
        "def Model(hp):\n",
        "  cnn = Sequential()\n",
        "  cnn.add(Conv2D(filters=hp.Int('conv_1_filter', min_value=32, max_value=128, step=16),\n",
        "                 kernel_size=hp.Choice('conv_1_kernel', values = [3,5]),\n",
        "                 input_shape=(150, 150, 3), \n",
        "                 activation='relu')) \n",
        "  \n",
        "  cnn.add(MaxPooling2D(pool_size=(2, 2)))\n",
        "   \n",
        "  cnn.add(Conv2D(filters=hp.Int('conv_2_filter', min_value=32, max_value=128, step=16),\n",
        "                 kernel_size=hp.Choice('conv_2_kernel', values = [3,5]),\n",
        "                 activation='relu'))\n",
        "  \n",
        "  cnn.add(MaxPooling2D(pool_size=(2, 2)))\n",
        "  \n",
        "  cnn.add(Flatten())\n",
        "\n",
        "  cnn.add(Dense(units=hp.Int('dense_1_units', \n",
        "                min_value=64, max_value=512, step=16),\n",
        "                activation='relu'))\n",
        "  cnn.add(Dropout(rate=0.5))\n",
        "\n",
        "  cnn.add(Dense(units=4, activation='softmax'))\n",
        "\n",
        "  cnn.compile(optimizer=keras.optimizers.RMSprop(hp.Choice('learning_rate', values=[1e-2, 1e-3])),\n",
        "              loss='categorical_crossentropy',\n",
        "              metrics=['accuracy'])\n",
        "  return cnn"
      ],
      "execution_count": null,
      "outputs": []
    },
    {
      "cell_type": "code",
      "metadata": {
        "id": "EdQdzSaZjJW0"
      },
      "source": [
        "tuner = RandomSearch(Model,\n",
        "                    objective='val_accuracy',\n",
        "                    max_trials=5,\n",
        "                    directory='/content/outputs',\n",
        "                    project_name=\"Hands Gestures Detection\")"
      ],
      "execution_count": null,
      "outputs": []
    },
    {
      "cell_type": "markdown",
      "metadata": {
        "id": "ZyCygtI8jZ5X"
      },
      "source": [
        "**Preprocessing of Images**"
      ]
    },
    {
      "cell_type": "code",
      "metadata": {
        "id": "mopC0ZK6jVey"
      },
      "source": [
        "def preprocessing(dir_path):\n",
        "  train_datagen = ImageDataGenerator(\n",
        "        rescale=1./255,\n",
        "        rotation_range=40,\n",
        "        width_shift_range=0.2,\n",
        "        height_shift_range=0.2,\n",
        "        shear_range=0.2,\n",
        "        zoom_range=0.2,\n",
        "        horizontal_flip=True,\n",
        "        fill_mode=\"nearest\",\n",
        "        validation_split=0.1)\n",
        "  \n",
        "  training_set = train_datagen.flow_from_directory(\n",
        "        dir_path,\n",
        "        target_size=(150, 150),\n",
        "        batch_size=10,\n",
        "        class_mode='categorical',\n",
        "        subset='training')\n",
        "  \n",
        "  validation_generator = train_datagen.flow_from_directory(\n",
        "      dir_path,\n",
        "      target_size=(150, 150),\n",
        "      batch_size=10,\n",
        "      class_mode='categorical',\n",
        "      subset='validation')\n",
        "  \n",
        "  return (training_set, validation_generator)"
      ],
      "execution_count": null,
      "outputs": []
    },
    {
      "cell_type": "code",
      "metadata": {
        "colab": {
          "base_uri": "https://localhost:8080/"
        },
        "id": "f5ekO8eHkTUw",
        "outputId": "8f0ab5ac-5ce6-4a2e-cc37-3555a2203a92"
      },
      "source": [
        "data = preprocessing('/content/datasets/train')"
      ],
      "execution_count": null,
      "outputs": [
        {
          "output_type": "stream",
          "text": [
            "Found 4918 images belonging to 4 classes.\n",
            "Found 545 images belonging to 4 classes.\n"
          ],
          "name": "stdout"
        }
      ]
    },
    {
      "cell_type": "code",
      "metadata": {
        "colab": {
          "base_uri": "https://localhost:8080/"
        },
        "id": "Mi644sYokumL",
        "outputId": "7b905399-e9d9-441d-9b50-d534e5d38205"
      },
      "source": [
        "tuner.search(data[0],\n",
        "                    validation_data = data[1],\n",
        "                    epochs=4)"
      ],
      "execution_count": null,
      "outputs": [
        {
          "output_type": "stream",
          "text": [
            "Trial 5 Complete [00h 02m 50s]\n",
            "val_accuracy: 0.9724770784378052\n",
            "\n",
            "Best val_accuracy So Far: 0.9944953918457031\n",
            "Total elapsed time: 00h 13m 43s\n",
            "INFO:tensorflow:Oracle triggered exit\n"
          ],
          "name": "stdout"
        }
      ]
    },
    {
      "cell_type": "code",
      "metadata": {
        "id": "Bx_5axwclJkY"
      },
      "source": [
        "model = tuner.get_best_models(num_models=1)[0]"
      ],
      "execution_count": null,
      "outputs": []
    },
    {
      "cell_type": "code",
      "metadata": {
        "colab": {
          "base_uri": "https://localhost:8080/"
        },
        "id": "uWg8eKNTvgOW",
        "outputId": "8cc0a201-70c2-4bac-df93-1baa3b1765ef"
      },
      "source": [
        "model.summary()"
      ],
      "execution_count": null,
      "outputs": [
        {
          "output_type": "stream",
          "text": [
            "Model: \"sequential\"\n",
            "_________________________________________________________________\n",
            "Layer (type)                 Output Shape              Param #   \n",
            "=================================================================\n",
            "conv2d (Conv2D)              (None, 148, 148, 64)      1792      \n",
            "_________________________________________________________________\n",
            "max_pooling2d (MaxPooling2D) (None, 74, 74, 64)        0         \n",
            "_________________________________________________________________\n",
            "conv2d_1 (Conv2D)            (None, 70, 70, 96)        153696    \n",
            "_________________________________________________________________\n",
            "max_pooling2d_1 (MaxPooling2 (None, 35, 35, 96)        0         \n",
            "_________________________________________________________________\n",
            "flatten (Flatten)            (None, 117600)            0         \n",
            "_________________________________________________________________\n",
            "dense (Dense)                (None, 384)               45158784  \n",
            "_________________________________________________________________\n",
            "dropout (Dropout)            (None, 384)               0         \n",
            "_________________________________________________________________\n",
            "dense_1 (Dense)              (None, 4)                 1540      \n",
            "=================================================================\n",
            "Total params: 45,315,812\n",
            "Trainable params: 45,315,812\n",
            "Non-trainable params: 0\n",
            "_________________________________________________________________\n"
          ],
          "name": "stdout"
        }
      ]
    },
    {
      "cell_type": "code",
      "metadata": {
        "colab": {
          "base_uri": "https://localhost:8080/"
        },
        "id": "-LFe__99vi1T",
        "outputId": "990735c4-c33a-42cd-86d9-869ce1228ffc"
      },
      "source": [
        "model.fit(data[0],\n",
        "          epochs=10,\n",
        "          initial_epoch=3,\n",
        "          validation_data=data[1])"
      ],
      "execution_count": null,
      "outputs": [
        {
          "output_type": "stream",
          "text": [
            "Epoch 4/10\n",
            "492/492 [==============================] - 40s 82ms/step - loss: 0.2560 - accuracy: 0.9437 - val_loss: 0.0427 - val_accuracy: 0.9890\n",
            "Epoch 5/10\n",
            "492/492 [==============================] - 40s 82ms/step - loss: 0.6986 - accuracy: 0.9516 - val_loss: 0.0189 - val_accuracy: 0.9945\n",
            "Epoch 6/10\n",
            "492/492 [==============================] - 40s 82ms/step - loss: 0.1722 - accuracy: 0.9599 - val_loss: 0.0094 - val_accuracy: 0.9963\n",
            "Epoch 7/10\n",
            "492/492 [==============================] - 40s 82ms/step - loss: 0.3890 - accuracy: 0.9579 - val_loss: 0.0423 - val_accuracy: 0.9908\n",
            "Epoch 8/10\n",
            "492/492 [==============================] - 40s 82ms/step - loss: 0.3268 - accuracy: 0.9614 - val_loss: 0.0023 - val_accuracy: 1.0000\n",
            "Epoch 9/10\n",
            "492/492 [==============================] - 40s 82ms/step - loss: 0.3028 - accuracy: 0.9573 - val_loss: 0.0806 - val_accuracy: 0.9706\n",
            "Epoch 10/10\n",
            "492/492 [==============================] - 40s 82ms/step - loss: 0.2320 - accuracy: 0.9669 - val_loss: 0.0132 - val_accuracy: 0.9963\n"
          ],
          "name": "stdout"
        },
        {
          "output_type": "execute_result",
          "data": {
            "text/plain": [
              "<tensorflow.python.keras.callbacks.History at 0x7fe58aab0470>"
            ]
          },
          "metadata": {
            "tags": []
          },
          "execution_count": 50
        }
      ]
    },
    {
      "cell_type": "code",
      "metadata": {
        "id": "QrRJuWvLvvXy"
      },
      "source": [
        "model.save(\"/gdrive/MyDrive/handsigns.h5\")"
      ],
      "execution_count": null,
      "outputs": []
    },
    {
      "cell_type": "code",
      "metadata": {
        "colab": {
          "base_uri": "https://localhost:8080/"
        },
        "id": "kKlcG-36xyjq",
        "outputId": "6050d75b-6eef-46ba-ae00-54b6547c9b39"
      },
      "source": [
        "data[0].class_indices"
      ],
      "execution_count": null,
      "outputs": [
        {
          "output_type": "execute_result",
          "data": {
            "text/plain": [
              "{'0Fingers': 0, '1Fingers': 1, '2Fingers': 2, '5Fingers': 3}"
            ]
          },
          "metadata": {
            "tags": []
          },
          "execution_count": 56
        }
      ]
    },
    {
      "cell_type": "code",
      "metadata": {
        "colab": {
          "base_uri": "https://localhost:8080/"
        },
        "id": "rTXOUuUjxDmZ",
        "outputId": "3575a8fb-118c-4bb6-f85d-9fd55ad47086"
      },
      "source": [
        "CNN = keras.models.load_model(\"/gdrive/MyDrive/handsigns.h5\")"
      ],
      "execution_count": null,
      "outputs": [
        {
          "output_type": "stream",
          "text": [
            "WARNING:tensorflow:Error in loading the saved optimizer state. As a result, your model is starting with a freshly initialized optimizer.\n"
          ],
          "name": "stdout"
        }
      ]
    },
    {
      "cell_type": "code",
      "metadata": {
        "id": "oZd2aHq4xJWY"
      },
      "source": [
        "# Prediction for Image using our trained model\n",
        "import numpy as np\n",
        "from keras.preprocessing import image\n",
        "test_image = image.load_img(\"/content/1348_150_150.jpg\", target_size=(150,150))\n",
        "test_image = image.img_to_array(test_image)\n",
        "test_image = np.expand_dims(test_image, axis = 0)\n",
        "result = CNN.predict(test_image)"
      ],
      "execution_count": null,
      "outputs": []
    },
    {
      "cell_type": "code",
      "metadata": {
        "colab": {
          "base_uri": "https://localhost:8080/"
        },
        "id": "98Y5ptlXxtOr",
        "outputId": "def50af4-4dc6-433f-d391-c2ac925e0734"
      },
      "source": [
        "if int(result[0][0]) == 1:\n",
        "  print(\"0Fingers\")\n",
        "elif int(result[0][1]) == 1:\n",
        "  print(\"1Fingers\")\n",
        "elif int(result[0][2]) == 1:\n",
        "  print(\"2Fingers\")\n",
        "elif int(result[0][3]) == 1:\n",
        "  print(\"5Fingers\")"
      ],
      "execution_count": null,
      "outputs": [
        {
          "output_type": "stream",
          "text": [
            "2Fingers\n"
          ],
          "name": "stdout"
        }
      ]
    },
    {
      "cell_type": "code",
      "metadata": {
        "id": "sZOh1W3UxxAK"
      },
      "source": [
        ""
      ],
      "execution_count": null,
      "outputs": []
    }
  ]
}